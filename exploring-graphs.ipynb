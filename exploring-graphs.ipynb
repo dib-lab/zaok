{
 "cells": [
  {
   "cell_type": "code",
   "execution_count": 11,
   "metadata": {
    "collapsed": true
   },
   "outputs": [],
   "source": [
    "import khmer"
   ]
  },
  {
   "cell_type": "markdown",
   "metadata": {},
   "source": [
    "# Exploring graphs and graph structure\n",
    "\n",
    "Graphs can be a tremendously powerful way to look at sequencing data,\n",
    "but unlike k-mers, operating on graphs can be very computationally\n",
    "expensive.  This is largely because of combinatorics: for example,\n",
    "forks and loops in the graph make simple traversal expensive.  Some of\n",
    "khmer's functionality is aimed at simplifying, or at least making possible,\n",
    "some basic traversal approaches."
   ]
  },
  {
   "cell_type": "markdown",
   "metadata": {},
   "source": [
    "## Some basic traversal functions.\n",
    "\n",
    "Let's start with some initial code that builds us a linear path in a graph:"
   ]
  },
  {
   "cell_type": "code",
   "execution_count": 12,
   "metadata": {
    "collapsed": false
   },
   "outputs": [
    {
     "data": {
      "text/plain": [
       "39"
      ]
     },
     "execution_count": 12,
     "metadata": {},
     "output_type": "execute_result"
    }
   ],
   "source": [
    ">>> K = 21\n",
    ">>> ng = khmer.Countgraph(K, 1e6, 4)\n",
    ">>> seq = 'CCCTGTTAGCTACGTCCGTCTAAGGATATTAACATAGTTGCGACTGCGTCCTGTGCTCA'\n",
    ">>> ng.consume(seq)"
   ]
  },
  {
   "cell_type": "markdown",
   "metadata": {},
   "source": [
    "In general, we use reads or sequences as an index into the De Bruijn graph, and most\n",
    "of the graph functions take either a k-mer or a sequence as input.\n",
    "\n",
    "For example, if you wanted to get the degree (number of neighbors) for each k-mer in\n",
    "that sequence, you could ask:"
   ]
  },
  {
   "cell_type": "code",
   "execution_count": 13,
   "metadata": {
    "collapsed": false
   },
   "outputs": [
    {
     "name": "stdout",
     "output_type": "stream",
     "text": [
      "1 2 2 2 2 2 2 2 2 2 2 2 2 2 2 2 2 2 2 2 2 2 2 2 2 2 2 2 2 2 2 2 2 2 2 2 2 2 1 "
     ]
    }
   ],
   "source": [
    ">>> for i in range(len(seq) - K + 1):\n",
    "...    kmer = seq[i:i + K]\n",
    "...    print(ng.kmer_degree(kmer), end=' ')"
   ]
  },
  {
   "cell_type": "markdown",
   "metadata": {},
   "source": [
    "This tells you that the sequence is linear and disconnected - no node has more than two neighbors, and the end nodes have one neighbor."
   ]
  },
  {
   "cell_type": "markdown",
   "metadata": {},
   "source": [
    "####  Question:\n",
    "\n",
    "How would you introduce a higher-degree node into this graph?"
   ]
  },
  {
   "cell_type": "markdown",
   "metadata": {},
   "source": [
    "You can also ask for the identity of the neighbors for each k-mer with the function 'ng.neighbors(kmer)'.\n",
    "\n",
    "We don't actually do too much exploration of graphs at the Python level, because, well, for large data sets it's slow.\n",
    "\n",
    "Instead, we provide a few slightly higher level functions, such as `calc_connected_graph_size`, which tells you\n",
    "how many k-mers connect to the seed kmer in the graph:"
   ]
  },
  {
   "cell_type": "code",
   "execution_count": 14,
   "metadata": {
    "collapsed": false
   },
   "outputs": [
    {
     "data": {
      "text/plain": [
       "39"
      ]
     },
     "execution_count": 14,
     "metadata": {},
     "output_type": "execute_result"
    }
   ],
   "source": [
    ">>> ng.calc_connected_graph_size(seq[:K])"
   ]
  },
  {
   "cell_type": "markdown",
   "metadata": {},
   "source": [
    "Keep in mind that for really large graphs, this may take a really, really long time to run."
   ]
  },
  {
   "cell_type": "markdown",
   "metadata": {},
   "source": [
    "####  Question:\n",
    "\n",
    "How would you increase the size of the connected graph?"
   ]
  },
  {
   "cell_type": "markdown",
   "metadata": {},
   "source": [
    "## Building waypoints in De Bruijn graphs\n",
    "\n",
    "Sometimes we have to deal with extremely large graphs.\n",
    "\n",
    "khmer provides a technique called 'tagging', in which a subset of\n",
    "k-mers in the graph are chosen as representatives of the whole graph -\n",
    "and we choose these representatives so that *every* k-mer in the\n",
    "entire graph is within distance D of at least one representative.\n",
    "\n",
    "(khmer does this by using the reads as a guide into the graph;khmer\n",
    "makes sure that each read has a tag every D k-mers, and, since the\n",
    "graph is entirely constructed from reads, then the graph ends up being\n",
    "tagged at distance D as well.)\n",
    "\n",
    "Tagging has a few nice features:\n",
    "\n",
    "* there are many fewer tags than there are k-mers (2D fold fewer,\n",
    "  approximately.)\n",
    "  \n",
    "* the structure and connectivity of the tags serves as a good proxy\n",
    "  for the connectivity of the overall graph; in this way they serve\n",
    "  as a sort of sparse graph.\n",
    "\n",
    "* tags are somewhat refractory to coverage: highly covered regions will\n",
    "  get many fewer tags than the number of reads from that region.\n",
    "\n",
    "* tags provide a good entry point into the graph for traversal; in essense,\n",
    "  they provide waypoints for other work.\n",
    "\n",
    "* tags could, in theory, be used as an index into the reads. (@CTB expand.)\n",
    "\n",
    "Graph theory friends tell me that this is actually a D-dominating set,\n",
    "and we'll revisit this concept later on (c.f. spacegraphcats).\n",
    "\n",
    ">   Right now we don't do a very efficient job of creating the tags.\n",
    ">   I have a few ideas for improving this using streaming approaches.\n",
    "\n",
    ">   Our tag data structure implementation is pretty bad - we use an STL set\n",
    ">   to store the tags...\n",
    "\n",
    "To make use of tags, the tags need to be built first.  Here's an example.\n",
    "\n",
    "First, construct a Nodegraph:"
   ]
  },
  {
   "cell_type": "code",
   "execution_count": 15,
   "metadata": {
    "collapsed": false
   },
   "outputs": [],
   "source": [
    ">>> K = 21\n",
    ">>> ng = khmer.Nodegraph(K, 1e6, 4)"
   ]
  },
  {
   "cell_type": "markdown",
   "metadata": {},
   "source": [
    "Create a sequence longer than K:"
   ]
  },
  {
   "cell_type": "code",
   "execution_count": 16,
   "metadata": {
    "collapsed": true
   },
   "outputs": [],
   "source": [
    ">>> seq = 'CCCTGTTAGCTACGTCCGTCTAAGGATATTAACATAGTTGCGACTGCGTCCTGTGCTCA'"
   ]
  },
  {
   "cell_type": "markdown",
   "metadata": {},
   "source": [
    "Now, instead of adding it to ``ng`` with ``consume``, use ``consume_and_tag``:"
   ]
  },
  {
   "cell_type": "code",
   "execution_count": 17,
   "metadata": {
    "collapsed": false
   },
   "outputs": [
    {
     "data": {
      "text/plain": [
       "39"
      ]
     },
     "execution_count": 17,
     "metadata": {},
     "output_type": "execute_result"
    }
   ],
   "source": [
    ">>> ng.consume_and_tag(seq)"
   ]
  },
  {
   "cell_type": "markdown",
   "metadata": {},
   "source": [
    "You can now look at the tags with ``get_tags_and_positions``:"
   ]
  },
  {
   "cell_type": "code",
   "execution_count": 18,
   "metadata": {
    "collapsed": false
   },
   "outputs": [
    {
     "data": {
      "text/plain": [
       "[(19, 156582046028), (39, 1984875433400)]"
      ]
     },
     "execution_count": 18,
     "metadata": {},
     "output_type": "execute_result"
    }
   ],
   "source": [
    ">>> ng.get_tags_and_positions(seq)"
   ]
  },
  {
   "cell_type": "markdown",
   "metadata": {},
   "source": [
    "Here, the first element of each tuple is the position of the tag\n",
    "within the sequence, and the second element is the actual tag -- you\n",
    "can convert those back into DNA with ``reverse_hash``:"
   ]
  },
  {
   "cell_type": "code",
   "execution_count": 19,
   "metadata": {
    "collapsed": false
   },
   "outputs": [
    {
     "data": {
      "text/plain": [
       "'AACTATGTTAATATCCTTAGA'"
      ]
     },
     "execution_count": 19,
     "metadata": {},
     "output_type": "execute_result"
    }
   ],
   "source": [
    ">>> x = ng.get_tags_and_positions(seq)\n",
    ">>> ng.reverse_hash(x[0][1])"
   ]
  },
  {
   "cell_type": "markdown",
   "metadata": {},
   "source": [
    "Points to make:\n",
    "\n",
    "* you can use any query sequence you want, not just the one you used to\n",
    "  create the tags ;).\n",
    "\n",
    "* the tagging distance D is 40 by default, and can be adjusted with\n",
    "  ``_set_tag_density``."
   ]
  },
  {
   "cell_type": "markdown",
   "metadata": {},
   "source": [
    "## Partitioning\n",
    "\n",
    "The motivation behind tags came from a desire to *partition* data sets:\n",
    "back when, our intution was that metagenome data sets should split up\n",
    "into disconnected components based on their origin species.  (You can\n",
    "read more in [Pell et al., 2012](http://www.pnas.org/content/109/33/13272.abstract).)\n",
    "\n",
    "This is challenging because you essentially want an all-by-all connectivity\n",
    "map for the graph - you want to know, does read A connect (transitively)\n",
    "to read Z, by any path, and you want to know this for all the reads in the\n",
    "data set.  This is hard!\n",
    "\n",
    "We initially developed tagging for the purpose of partitioning, and we\n",
    "do the following:\n",
    "\n",
    "* tag the graph systematically (as explained above);\n",
    "\n",
    "* explore to a distance D from each tag, and identify all neighboring\n",
    "  tags within distance D;\n",
    "\n",
    "* assign partition IDs to each set of connected tags;\n",
    "\n",
    "* split the reads up based on their partition IDs.\n",
    "\n",
    "This does work, mostly, and it turns out to split the graph up into\n",
    "bins that group reads by species. (See [Howe et al., 2014](http://www.pnas.org/content/111/13/4904).)\n",
    "\n",
    "For an example of partitioning, let's construct an artifical sequence."
   ]
  },
  {
   "cell_type": "code",
   "execution_count": 20,
   "metadata": {
    "collapsed": true
   },
   "outputs": [],
   "source": [
    ">>> longseq = (\"AGGAGGAGCATTTGTGCGATGCCCTATGGGGAGACCTATCTGCCGGGGAAATGCGCACA\",\n",
    "...    \"TAACATAATCTAATCTACCACATTATGAACCCCCAGTGGGCACGTGTTCATTGCGTACGATCGCATTC\",\n",
    "...    \"TACTTGATTCCCGCAGTGGTACGACGCTATGTA\")\n",
    ">>> longseq = \"\".join(longseq)"
   ]
  },
  {
   "cell_type": "markdown",
   "metadata": {},
   "source": [
    "If we break this 160-bp sequence up into three bits,"
   ]
  },
  {
   "cell_type": "code",
   "execution_count": 21,
   "metadata": {
    "collapsed": true
   },
   "outputs": [],
   "source": [
    ">>> begin = longseq[:70]\n",
    ">>> middle = longseq[40:120]\n",
    ">>> end = longseq[90:]"
   ]
  },
  {
   "cell_type": "markdown",
   "metadata": {},
   "source": [
    "we can see that ``begin`` and ``end`` shouldn't connect without ``middle``.\n",
    "Let's see if partitioning agrees!\n",
    "\n",
    "First, let's build a graph and then add the beginning and end bits:"
   ]
  },
  {
   "cell_type": "code",
   "execution_count": 22,
   "metadata": {
    "collapsed": false
   },
   "outputs": [
    {
     "data": {
      "text/plain": [
       "50"
      ]
     },
     "execution_count": 22,
     "metadata": {},
     "output_type": "execute_result"
    }
   ],
   "source": [
    ">>> K = 21\n",
    ">>> ng = khmer.Nodegraph(K, 1e6, 4)\n",
    ">>> ng.consume_and_tag(begin)\n",
    ">>> ng.consume_and_tag(end)"
   ]
  },
  {
   "cell_type": "markdown",
   "metadata": {},
   "source": [
    "Now, run the partitioning code, get back a partition object, and ask\n",
    "for a partition count:"
   ]
  },
  {
   "cell_type": "code",
   "execution_count": 23,
   "metadata": {
    "collapsed": false
   },
   "outputs": [
    {
     "name": "stdout",
     "output_type": "stream",
     "text": [
      "2\n"
     ]
    }
   ],
   "source": [
    ">>> p = ng.do_subset_partition()\n",
    ">>> n_partitions, _ = p.count_partitions()\n",
    ">>> print(n_partitions)"
   ]
  },
  {
   "cell_type": "markdown",
   "metadata": {},
   "source": [
    "Yep - 2 partitions!\n",
    "\n",
    "Now let's add the middle bit, which will connect the two isolated partitions:"
   ]
  },
  {
   "cell_type": "code",
   "execution_count": 24,
   "metadata": {
    "collapsed": false
   },
   "outputs": [
    {
     "data": {
      "text/plain": [
       "40"
      ]
     },
     "execution_count": 24,
     "metadata": {},
     "output_type": "execute_result"
    }
   ],
   "source": [
    ">>> ng.consume_and_tag(middle)"
   ]
  },
  {
   "cell_type": "markdown",
   "metadata": {},
   "source": [
    "If we redo the partitioning, we should now get 1 partition:"
   ]
  },
  {
   "cell_type": "code",
   "execution_count": 25,
   "metadata": {
    "collapsed": false
   },
   "outputs": [
    {
     "name": "stdout",
     "output_type": "stream",
     "text": [
      "1\n"
     ]
    }
   ],
   "source": [
    ">>> p = ng.do_subset_partition()\n",
    ">>> n_partitions, _ = p.count_partitions()\n",
    ">>> print(n_partitions)"
   ]
  },
  {
   "cell_type": "markdown",
   "metadata": {},
   "source": [
    "...and we do!\n",
    "\n",
    "Partitioning hasn't, in the end, proven to be that useful in practice ([also see blog post](http://ivory.idyll.org/blog/2016-partitioning-no-more.html)).\n",
    "The downsides of the approach are:\n",
    "\n",
    "* it turns out that any source of systematic bias in sequencing will\n",
    "  result in a completely connected graph ([Howe et al., 2012](https://arxiv.org/abs/1212.0159); such biases are\n",
    "  common.\n",
    "\n",
    "* it also turns out that most metagenome graphs are, in reality,\n",
    "  completely connected.\n",
    "\n",
    "However, tags are still potentially useful for other things than straight\n",
    "up partitioning."
   ]
  },
  {
   "cell_type": "markdown",
   "metadata": {},
   "source": [
    "### Labeling graphs\n",
    "\n",
    "Camille Scott extended tagging with *labels* - the idea is that\n",
    "each tag can be labelled with 1 or more arbitrary identifiers.\n",
    "This lets you do things like build colored De Bruijn graphs,\n",
    "equiv. do pangenome analysis.\n",
    "\n",
    "References:\n",
    "\n",
    "http://ivory.idyll.org/blog/2015-wok-labelhash.html\n",
    "\n",
    "https://github.com/dib-lab/2015-khmer-wok4-multimap/blob/master/do-counting.py\n",
    "\n",
    "For an example, let's take the sequence we used in partitioning, and add labels -- here, '1' and '2'."
   ]
  },
  {
   "cell_type": "code",
   "execution_count": 38,
   "metadata": {
    "collapsed": false
   },
   "outputs": [
    {
     "data": {
      "text/plain": [
       "50"
      ]
     },
     "execution_count": 38,
     "metadata": {},
     "output_type": "execute_result"
    }
   ],
   "source": [
    ">>> K = 21\n",
    ">>> ng = khmer.Nodegraph(K, 1e6, 4)\n",
    ">>> lh = khmer._GraphLabels(ng)\n",
    ">>> lh.consume_sequence_and_tag_with_labels(begin, 1)\n",
    ">>> lh.consume_sequence_and_tag_with_labels(end, 2)"
   ]
  },
  {
   "cell_type": "markdown",
   "metadata": {},
   "source": [
    "We can now ask for labels by overlap with `longseq`:"
   ]
  },
  {
   "cell_type": "code",
   "execution_count": 39,
   "metadata": {
    "collapsed": false
   },
   "outputs": [
    {
     "name": "stdout",
     "output_type": "stream",
     "text": [
      "[1]\n",
      "[1]\n",
      "[2]\n",
      "[2]\n"
     ]
    }
   ],
   "source": [
    ">>> tags = ng.get_tags_and_positions(longseq)\n",
    ">>> for (_, tag) in tags:\n",
    "...    print(lh.get_tag_labels(tag))"
   ]
  },
  {
   "cell_type": "markdown",
   "metadata": {},
   "source": [
    "This lets us add arbitrary information to the graph by indexing using the tags or the labels.\n",
    "\n",
    "One particular use case for this is comparing several different data sets by looking at how the graphs overlap, or do\n",
    "not. This is explored a bit in [a blog post](http://ivory.idyll.org/blog/2015-wok-evaluate.html).\n",
    "\n",
    "We'll show another prototype use case belong, for labeling longer paths for use in assembly."
   ]
  },
  {
   "cell_type": "markdown",
   "metadata": {},
   "source": [
    "### Building compact De Bruijn graphs\n",
    "\n",
    "De Bruijn graphs themselves are often quite large, because they have\n",
    "as many nodes in them as there are unique k-mers in the data set.\n",
    "Many of these k-mers may be collapsable into linear paths.  The result\n",
    "of doing this graph contraction is called a \"compact De Bruijn graph\",\n",
    "and we have some functionality for building them in khmer.\n",
    "\n",
    "This functionality consists of two functions on graphs:\n",
    "``find_high_degree_nodes`` and ``traverse_and_mark_linear_paths``.\n",
    "\n",
    "There's a script [sandbox/extract-compact-dbg.py](https://github.com/dib-lab/khmer/blob/zaok/sandbox/extract-compact-dbg.py) that you can use with genomes or reads.  For this, you'll need a copy of the script from khmer's sandbox directory --"
   ]
  },
  {
   "cell_type": "code",
   "execution_count": 50,
   "metadata": {
    "collapsed": false
   },
   "outputs": [
    {
     "name": "stdout",
     "output_type": "stream",
     "text": [
      "  % Total    % Received % Xferd  Average Speed   Time    Time     Time  Current\n",
      "                                 Dload  Upload   Total   Spent    Left  Speed\n",
      "100   149  100   149    0     0    108      0  0:00:01  0:00:01 --:--:--   108\n",
      "100  5697  100  5697    0     0   3601      0  0:00:01  0:00:01 --:--:--  3601\n",
      "  % Total    % Received % Xferd  Average Speed   Time    Time     Time  Current\n",
      "                                 Dload  Upload   Total   Spent    Left  Speed\n",
      "100   142  100   142    0     0    185      0 --:--:-- --:--:-- --:--:--   185\n",
      "100  2546  100  2546    0     0   2438      0  0:00:01  0:00:01 --:--:--  2438\n"
     ]
    }
   ],
   "source": [
    ">>> !curl -L -O https://github.com/dib-lab/khmer/raw/zaok/sandbox/extract-compact-dbg.py\n",
    ">>> !curl -L -O https://github.com/dib-lab/khmer/raw/zaok/sandbox/graph_writer.py\n",
    "\n",
    ">>> !chmod +x extract-compact-dbg.py"
   ]
  },
  {
   "cell_type": "markdown",
   "metadata": {},
   "source": [
    "This script produces GML files that can be viewed with [Gephi](https://gephi.org/)."
   ]
  },
  {
   "cell_type": "code",
   "execution_count": 51,
   "metadata": {
    "collapsed": false
   },
   "outputs": [
    {
     "name": "stdout",
     "output_type": "stream",
     "text": [
      "building graphs and loading files\r\n",
      "finding high degree nodes\r\n",
      "traversing linear segments from 4 nodes\r\n",
      "... 0 of 4\r\n",
      "13 segments, containing 10094 nodes\r\n",
      "saving to genome.gml\r\n"
     ]
    }
   ],
   "source": [
    ">>> !./extract-compact-dbg.py -x 1e6 data/genome.fa.gz -o genome.gml"
   ]
  },
  {
   "cell_type": "code",
   "execution_count": 55,
   "metadata": {
    "collapsed": false
   },
   "outputs": [
    {
     "name": "stdout",
     "output_type": "stream",
     "text": [
      "building graphs and loading files\n",
      "... data/reads.fa.gz 10000\n",
      "... data/reads.fa.gz 20000\n",
      "finding high degree nodes\n",
      "...2 data/reads.fa.gz 10000\n",
      "...2 data/reads.fa.gz 20000\n",
      "traversing linear segments from 16554 nodes\n",
      "... 0 of 16554\n",
      "... 10000 of 16554\n",
      "29382 segments, containing 737769 nodes\n",
      "saving to reads.gml\n"
     ]
    }
   ],
   "source": [
    ">>> !./extract-compact-dbg.py -x 1e8 data/reads.fa.gz -o reads.gml"
   ]
  },
  {
   "cell_type": "code",
   "execution_count": 56,
   "metadata": {
    "collapsed": false
   },
   "outputs": [
    {
     "name": "stdout",
     "output_type": "stream",
     "text": [
      "building graphs and loading files\n",
      "finding high degree nodes\n",
      "traversing linear segments from 3 nodes\n",
      "... 0 of 3\n",
      "11 segments, containing 10033 nodes\n",
      "saving to mixed.gml\n"
     ]
    }
   ],
   "source": [
    ">>> !./extract-compact-dbg.py -x 1e6 data/mixed-species.fa.gz -o mixed.gml"
   ]
  },
  {
   "cell_type": "markdown",
   "metadata": {},
   "source": [
    "## Visualizing compact De Bruijn graphs with Gephi\n",
    "\n",
    "(Gephi demo here)"
   ]
  },
  {
   "cell_type": "markdown",
   "metadata": {},
   "source": [
    "## Assembling linear sequences"
   ]
  },
  {
   "cell_type": "markdown",
   "metadata": {},
   "source": [
    "## Assembling across high-degree nodes with labeled paths"
   ]
  },
  {
   "cell_type": "markdown",
   "metadata": {},
   "source": [
    "Next: [Summarizing the basics](summarizing-khmer-basics.html)"
   ]
  },
  {
   "cell_type": "code",
   "execution_count": null,
   "metadata": {
    "collapsed": true
   },
   "outputs": [],
   "source": []
  }
 ],
 "metadata": {
  "kernelspec": {
   "display_name": "Python 3",
   "language": "python",
   "name": "python3"
  },
  "language_info": {
   "codemirror_mode": {
    "name": "ipython",
    "version": 3
   },
   "file_extension": ".py",
   "mimetype": "text/x-python",
   "name": "python",
   "nbconvert_exporter": "python",
   "pygments_lexer": "ipython3",
   "version": "3.5.1"
  }
 },
 "nbformat": 4,
 "nbformat_minor": 0
}
